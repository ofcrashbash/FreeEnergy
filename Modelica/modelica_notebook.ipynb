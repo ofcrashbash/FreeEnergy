{
 "nbformat": 4,
 "nbformat_minor": 2,
 "metadata": {
  "language_info": {
   "name": "python",
   "codemirror_mode": {
    "name": "ipython",
    "version": 3
   },
   "version": "3.7.4-final"
  },
  "orig_nbformat": 2,
  "file_extension": ".py",
  "mimetype": "text/x-python",
  "name": "python",
  "npconvert_exporter": "python",
  "pygments_lexer": "ipython3",
  "version": 3,
  "kernelspec": {
   "name": "python37564bit3d528eec200e4212bc4b83dfe2cc7218",
   "display_name": "Python 3.7.5 64-bit"
  }
 },
 "cells": [
  {
   "cell_type": "code",
   "execution_count": 2,
   "metadata": {},
   "outputs": [
    {
     "ename": "ModuleNotFoundError",
     "evalue": "No module named 'OMPython'",
     "output_type": "error",
     "traceback": [
      "\u001b[1;31m---------------------------------------------------------------------------\u001b[0m",
      "\u001b[1;31mModuleNotFoundError\u001b[0m                       Traceback (most recent call last)",
      "\u001b[1;32m<ipython-input-2-cd168bd9821f>\u001b[0m in \u001b[0;36m<module>\u001b[1;34m\u001b[0m\n\u001b[1;32m----> 1\u001b[1;33m \u001b[1;32mfrom\u001b[0m \u001b[0mOMPython\u001b[0m \u001b[1;32mimport\u001b[0m \u001b[0mOMParser\u001b[0m\u001b[1;33m\u001b[0m\u001b[1;33m\u001b[0m\u001b[0m\n\u001b[0m",
      "\u001b[1;31mModuleNotFoundError\u001b[0m: No module named 'OMPython'"
     ]
    }
   ],
   "source": [
    "from OMPython import OMParser"
   ]
  },
  {
   "cell_type": "code",
   "execution_count": 3,
   "metadata": {},
   "outputs": [
    {
     "name": "stdout",
     "output_type": "stream",
     "text": "\nPlease wait a moment while I gather a list of all available modules...\n\nIPython             code                modulefinder        sunau\nPIL                 codecs              monotonic           symbol\n__future__          codeop              more_itertools      symbolProvider\n_abc                collections         msilib              sympyprinting\n_ast                colorama            msvcrt              symtable\n_asyncio            colorsys            multiprocessing     sys\n_bisect             commctrl            nbconvert           sysconfig\n_blake2             compileall          nbformat            tabnanny\n_bootlocale         completion          netbios             tarfile\n_bz2                concurrent          netrc               telnetlib\n_codecs             configparser        nntplib             tempfile\n_codecs_cn          contextlib          normalizeForInterpreter terminado\n_codecs_hk          contextvars         notebook            test\n_codecs_iso2022     copy                nt                  testing_tools\n_codecs_jp          copyreg             ntpath              testlauncher\n_codecs_kr          crypt               ntsecuritycon       testpath\n_codecs_tw          csv                 nturl2path          tests\n_collections        ctypes              numbers             textwrap\n_collections_abc    curses              numcodecs           this\n_compat_pickle      cycler              numpy               threading\n_compression        cythonmagic         odbc                time\n_contextvars        dataclasses         opcode              timeit\n_csv                datascience         operator            timer\n_ctypes             datetime            optparse            tkinter\n_ctypes_test        dateutil            os                  token\n_datetime           dbi                 pandocfilters       tokenize\n_decimal            dbm                 parser              tornado\n_dummy_thread       dde                 parso               trace\n_elementtree        decimal             past                traceback\n_functools          decorator           pathlib             tracemalloc\n_hashlib            defusedxml          pdb                 traitlets\n_heapq              difflib             perfmon             tty\n_imp                dis                 pickle              turtle\n_io                 distutils           pickleshare         turtledemo\n_json               doctest             pickletools         typed_ast\n_locale             dummy_threading     pip                 types\n_lsprof             easy_install        pipes               typing\n_lzma               email               pkg_resources       unicodedata\n_markupbase         encodings           pkgutil             unittest\n_md5                ensurepip           platform            urllib\n_msi                entrypoints         plistlib            uu\n_multibytecodec     enum                poplib              uuid\n_multiprocessing    errno               posixpath           venv\n_opcode             fasteners           pprint              visualstudio_py_testlauncher\n_operator           faulthandler        printEnvVariables   warnings\n_osx_support        ffmpeg              printEnvVariablesToFile wave\n_overlapped         filecmp             profile             wcwidth\n_pickle             fileinput           prometheus_client   weakref\n_py_abc             fnmatch             prompt_toolkit      webbrowser\n_pydecimal          formatter           pstats              webencodings\n_pyio               fractions           ptvsd_launcher      widgetsnbextension\n_pyrsistent_version ftplib              pty                 win2kras\n_queue              functools           pvectorc            win32api\n_random             future              py_compile          win32clipboard\n_sha1               gc                  pyclbr              win32com\n_sha256             genericpath         pydoc               win32con\n_sha3               getopt              pydoc_data          win32console\n_sha512             getpass             pyexpat             win32cred\n_signal             gettext             pygments            win32crypt\n_sitebuiltins       glob                pylab               win32cryptcon\n_socket             gzip                pylint              win32event\n_sqlite3            hashlib             pyls_jsonrpc        win32evtlog\n_sre                heapq               pyparsing           win32evtlogutil\n_ssl                hmac                pyrsistent          win32file\n_stat               html                pythoncom           win32gui\n_string             http                pywin               win32gui_struct\n_strptime           idlelib             pywin32_bootstrap   win32help\n_struct             imaplib             pywin32_testutil    win32inet\n_symtable           imghdr              pywintypes          win32inetcon\n_testbuffer         imp                 qtconsole           win32job\n_testcapi           importlib           queue               win32lz\n_testconsole        importlib_metadata  quopri              win32net\n_testimportmultiple inspect             random              win32netcon\n_testmultiphase     install_ptvsd       rasutil             win32pdh\n_thread             interpreterInfo     re                  win32pdhquery\n_threading_local    io                  refactor            win32pdhutil\n_tkinter            ipaddress           regcheck            win32pipe\n_tracemalloc        ipykernel           regutil             win32print\n_warnings           ipykernel_launcher  reprlib             win32process\n_weakref            ipython_genutils    rlcompleter         win32profile\n_weakrefset         ipywidgets          rmagic              win32ras\n_win32sysloader     isapi               runpy               win32rcparser\n_winapi             isort               sched               win32security\n_winxptheme         itertools           scipy               win32service\nabc                 jedi                secrets             win32serviceutil\nadodbapi            jinja2              select              win32timezone\nafxres              json                selectors           win32trace\naifc                jsonschema          send2trash          win32traceutil\nantigravity         jupyter             servicemanager      win32transaction\nargparse            jupyter_client      setuptools          win32ts\narray               jupyter_console     shell_exec          win32ui\nasciitree           jupyter_core        shelve              win32uiole\nast                 jupyter_notebook_config shlex               win32verstamp\nastroid             keyboard            shutil              win32wnet\nasynchat            keyword             signal              winerror\nasyncio             kiwisolver          site                winioctlcon\nasyncore            lazy_object_proxy   six                 winnt\natexit              lib2to3             smtpd               winperf\nattr                libfuturize         smtplib             winpty\naudioop             libpasteurize       sndhdr              winreg\nautoreload          linecache           socket              winsound\nbackcall            locale              socketserver        winxpgui\nbase64              logging             sortImports         winxptheme\nbdb                 lzma                sqlite3             wrapt\nbinascii            macpath             sre_compile         wsgiref\nbinhex              mailbox             sre_constants       xdrlib\nbisect              mailcap             sre_parse           xml\nbleach              markupsafe          ssl                 xmlrpc\nbuiltins            marshal             sspi                xxsubtype\nbz2                 math                sspicon             zarr\ncProfile            matplotlib          stat                zipapp\ncalendar            mccabe              statistics          zipfile\ncgi                 mimetypes           storemagic          zipimport\ncgitb               mistune             string              zipp\nchunk               mmap                stringprep          zlib\ncmath               mmapfile            struct              zmq\ncmd                 mmsystem            subprocess          \n\nEnter any module name to get more help.  Or, type \"modules spam\" to search\nfor modules whose name or summary contain the string \"spam\".\n\n"
    }
   ],
   "source": [
    "help(\"modules\")"
   ]
  },
  {
   "cell_type": "code",
   "execution_count": null,
   "metadata": {},
   "outputs": [],
   "source": []
  }
 ]
}